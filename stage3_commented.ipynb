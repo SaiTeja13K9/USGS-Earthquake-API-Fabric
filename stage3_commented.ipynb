{
 "cells": [
  {
   "cell_type": "code",
   "execution_count": 1,
   "id": "0df80c18-ab29-4e6c-9c2b-8e992c6dfd51",
   "metadata": {
    "microsoft": {
     "language": "python",
     "language_group": "synapse_pyspark"
    }
   },
   "outputs": [
    {
     "data": {
      "application/vnd.livy.statement-meta+json": {
       "execution_finish_time": "2025-02-18T23:49:55.1390516Z",
       "execution_start_time": "2025-02-18T23:49:48.208731Z",
       "livy_statement_state": "available",
       "normalized_state": "finished",
       "parent_msg_id": "7e5c57d9-f7f9-41ae-92d4-c4dab0242082",
       "queued_time": "2025-02-18T23:48:27.1703975Z",
       "session_id": "5b38096a-5856-4a1c-9741-8f63608bb3fe",
       "session_start_time": "2025-02-18T23:48:27.1717776Z",
       "spark_pool": null,
       "state": "finished",
       "statement_id": 5,
       "statement_ids": [
        5
       ]
      },
      "text/plain": [
       "StatementMeta(, 5b38096a-5856-4a1c-9741-8f63608bb3fe, 5, Finished, Available, Finished)"
      ]
     },
     "metadata": {},
     "output_type": "display_data"
    },
    {
     "name": "stdout",
     "output_type": "stream",
     "text": [
      "Requirement already satisfied: reverse_geocoder in /home/trusted-service-user/cluster-env/clonedenv/lib/python3.11/site-packages (1.5.1)\r\n",
      "Requirement already satisfied: numpy>=1.11.0 in /home/trusted-service-user/cluster-env/clonedenv/lib/python3.11/site-packages (from reverse_geocoder) (1.26.4)\r\n",
      "Requirement already satisfied: scipy>=0.17.1 in /home/trusted-service-user/cluster-env/clonedenv/lib/python3.11/site-packages (from reverse_geocoder) (1.11.4)\r\n"
     ]
    }
   ],
   "source": [
    "!pip install reverse_geocoder"
   ]
  },
  {
   "cell_type": "code",
   "execution_count": 2,
   "id": "54fa8170-7441-480d-8e57-025c585930e2",
   "metadata": {
    "microsoft": {
     "language": "python",
     "language_group": "synapse_pyspark"
    }
   },
   "outputs": [
    {
     "data": {
      "application/vnd.livy.statement-meta+json": {
       "execution_finish_time": "2025-02-18T23:49:56.0832264Z",
       "execution_start_time": "2025-02-18T23:49:55.2877983Z",
       "livy_statement_state": "available",
       "normalized_state": "finished",
       "parent_msg_id": "39e8d896-294f-44ad-9df8-afc84b76c5b4",
       "queued_time": "2025-02-18T23:48:27.1742289Z",
       "session_id": "5b38096a-5856-4a1c-9741-8f63608bb3fe",
       "session_start_time": null,
       "spark_pool": null,
       "state": "finished",
       "statement_id": 6,
       "statement_ids": [
        6
       ]
      },
      "text/plain": [
       "StatementMeta(, 5b38096a-5856-4a1c-9741-8f63608bb3fe, 6, Finished, Available, Finished)"
      ]
     },
     "metadata": {},
     "output_type": "display_data"
    }
   ],
   "source": [
    "# Import necessary libraries for data processing and API calls\n",
    "from pyspark.sql.functions import when, col, udf\n",
    "# Import necessary libraries for data processing and API calls\n",
    "from pyspark.sql.types import StringType\n",
    "# Ensure the below library is installed on your fabric environment\n",
    "# Import necessary libraries for data processing and API calls\n",
    "import reverse_geocoder as rg\n",
    "# Import necessary libraries for data processing and API calls\n",
    "from datetime import date, timedelta"
   ]
  },
  {
   "cell_type": "code",
   "execution_count": 3,
   "id": "ce2dec7f-4c9b-43d6-b389-bc9ac555e0f6",
   "metadata": {
    "microsoft": {
     "language": "python",
     "language_group": "synapse_pyspark"
    }
   },
   "outputs": [
    {
     "data": {
      "application/vnd.livy.statement-meta+json": {
       "execution_finish_time": "2025-02-18T23:49:56.4891169Z",
       "execution_start_time": "2025-02-18T23:49:56.2333738Z",
       "livy_statement_state": "available",
       "normalized_state": "finished",
       "parent_msg_id": "faeaedf4-e290-4732-a199-00b459de5c9e",
       "queued_time": "2025-02-18T23:48:27.1748655Z",
       "session_id": "5b38096a-5856-4a1c-9741-8f63608bb3fe",
       "session_start_time": null,
       "spark_pool": null,
       "state": "finished",
       "statement_id": 7,
       "statement_ids": [
        7
       ]
      },
      "text/plain": [
       "StatementMeta(, 5b38096a-5856-4a1c-9741-8f63608bb3fe, 7, Finished, Available, Finished)"
      ]
     },
     "metadata": {},
     "output_type": "display_data"
    }
   ],
   "source": [
    "# Remove this before running Data Factory Pipeline\n",
    "start_date = date. today() - timedelta(7)"
   ]
  },
  {
   "cell_type": "code",
   "execution_count": 4,
   "id": "78d786eb-d60a-479a-b18b-eb3250d4e143",
   "metadata": {
    "microsoft": {
     "language": "python",
     "language_group": "synapse_pyspark"
    }
   },
   "outputs": [
    {
     "data": {
      "application/vnd.livy.statement-meta+json": {
       "execution_finish_time": "2025-02-18T23:50:08.7736354Z",
       "execution_start_time": "2025-02-18T23:49:56.6529019Z",
       "livy_statement_state": "available",
       "normalized_state": "finished",
       "parent_msg_id": "44d21603-94d4-436b-a0d5-ec88480c9689",
       "queued_time": "2025-02-18T23:48:27.1754756Z",
       "session_id": "5b38096a-5856-4a1c-9741-8f63608bb3fe",
       "session_start_time": null,
       "spark_pool": null,
       "state": "finished",
       "statement_id": 8,
       "statement_ids": [
        8
       ]
      },
      "text/plain": [
       "StatementMeta(, 5b38096a-5856-4a1c-9741-8f63608bb3fe, 8, Finished, Available, Finished)"
      ]
     },
     "metadata": {},
     "output_type": "display_data"
    }
   ],
   "source": [
    "# Load data into a Spark DataFrame for processing\n",
    "df = spark.read.table(\"earthquake_events_stage2\").filter(col('time') > start_date)\n",
    "     \n",
    "\n",
    "def get_country_code(lat, lon):\n",
    "    \"\"\"\n",
    "    Retrieve the country code for a given latitude and longitude.\n",
    "\n",
    "    Parameters:\n",
    "    lat (float or str): Latitude of the location.\n",
    "    lon (float or str): Longitude of the location.\n",
    "\n",
    "    Returns:\n",
    "    str: Country code of the location, retrieved using the reverse geocoding API.\n",
    "\n",
    "    Example:\n",
    "    >>> get_country_details(48.8588443, 2.2943506)\n",
    "    'FR'\n",
    "    \"\"\"\n",
    "    coordinates = (float(lat), float(lon))\n",
    "    return rg.search(coordinates)[0].get('cc')"
   ]
  },
  {
   "cell_type": "code",
   "execution_count": 5,
   "id": "c53e32c9-6df3-4203-be13-fa8ec85a36e9",
   "metadata": {
    "microsoft": {
     "language": "python",
     "language_group": "synapse_pyspark"
    }
   },
   "outputs": [
    {
     "data": {
      "application/vnd.livy.statement-meta+json": {
       "execution_finish_time": "2025-02-18T23:50:09.2017309Z",
       "execution_start_time": "2025-02-18T23:50:08.9334355Z",
       "livy_statement_state": "available",
       "normalized_state": "finished",
       "parent_msg_id": "dfbb7ee4-e116-42f2-850c-c957197a300b",
       "queued_time": "2025-02-18T23:48:27.1760866Z",
       "session_id": "5b38096a-5856-4a1c-9741-8f63608bb3fe",
       "session_start_time": null,
       "spark_pool": null,
       "state": "finished",
       "statement_id": 9,
       "statement_ids": [
        9
       ]
      },
      "text/plain": [
       "StatementMeta(, 5b38096a-5856-4a1c-9741-8f63608bb3fe, 9, Finished, Available, Finished)"
      ]
     },
     "metadata": {},
     "output_type": "display_data"
    }
   ],
   "source": [
    "# Define a user-defined function (UDF) for data transformation\n",
    "# registering the udfs so they can be used on spark dataframes\n",
    "# Define a user-defined function (UDF) for data transformation\n",
    "get_country_code_udf = udf(get_country_code, StringType())"
   ]
  },
  {
   "cell_type": "code",
   "execution_count": 6,
   "id": "f8fb379d-b157-4c1e-b3d3-3e3e6202120c",
   "metadata": {
    "microsoft": {
     "language": "python",
     "language_group": "synapse_pyspark"
    }
   },
   "outputs": [
    {
     "data": {
      "application/vnd.livy.statement-meta+json": {
       "execution_finish_time": "2025-02-18T23:50:09.6425706Z",
       "execution_start_time": "2025-02-18T23:50:09.3697561Z",
       "livy_statement_state": "available",
       "normalized_state": "finished",
       "parent_msg_id": "1de36197-aef0-4307-8dc5-bdc3b11856a2",
       "queued_time": "2025-02-18T23:48:27.17669Z",
       "session_id": "5b38096a-5856-4a1c-9741-8f63608bb3fe",
       "session_start_time": null,
       "spark_pool": null,
       "state": "finished",
       "statement_id": 10,
       "statement_ids": [
        10
       ]
      },
      "text/plain": [
       "StatementMeta(, 5b38096a-5856-4a1c-9741-8f63608bb3fe, 10, Finished, Available, Finished)"
      ]
     },
     "metadata": {},
     "output_type": "display_data"
    }
   ],
   "source": [
    "# adding country_code and city attributes\n",
    "df_with_location = \\\n",
    "                df.\\\n",
    "# Define a user-defined function (UDF) for data transformation\n",
    "                    withColumn(\"country_code\", get_country_code_udf(col(\"latitude\"), col(\"longitude\")))"
   ]
  },
  {
   "cell_type": "code",
   "execution_count": 7,
   "id": "48792c96-d018-41e1-8b9d-1f68b7edb50b",
   "metadata": {
    "microsoft": {
     "language": "python",
     "language_group": "synapse_pyspark"
    }
   },
   "outputs": [
    {
     "data": {
      "application/vnd.livy.statement-meta+json": {
       "execution_finish_time": "2025-02-18T23:50:10.0612341Z",
       "execution_start_time": "2025-02-18T23:50:09.8174618Z",
       "livy_statement_state": "available",
       "normalized_state": "finished",
       "parent_msg_id": "4ac2f451-b8e0-44a8-a15d-9d96aecab89a",
       "queued_time": "2025-02-18T23:48:27.177295Z",
       "session_id": "5b38096a-5856-4a1c-9741-8f63608bb3fe",
       "session_start_time": null,
       "spark_pool": null,
       "state": "finished",
       "statement_id": 11,
       "statement_ids": [
        11
       ]
      },
      "text/plain": [
       "StatementMeta(, 5b38096a-5856-4a1c-9741-8f63608bb3fe, 11, Finished, Available, Finished)"
      ]
     },
     "metadata": {},
     "output_type": "display_data"
    }
   ],
   "source": [
    "# adding significance classification\n",
    "df_with_location_sig_class = \\\n",
    "                            df_with_location.\\\n",
    "                                withColumn('sig_class', \n",
    "# Apply conditional transformations to clean and filter the dataset\n",
    "                                            when(col(\"sig\") < 100, \"Low\").\\\n",
    "# Apply conditional transformations to clean and filter the dataset\n",
    "                                            when((col(\"sig\") >= 100) & (col(\"sig\") < 500), \"Moderate\").\\\n",
    "                                            otherwise(\"High\")\n",
    "                                            )\n",
    "     \n",
    "\n"
   ]
  },
  {
   "cell_type": "code",
   "execution_count": 8,
   "id": "2b5ddb8f-905d-47fe-8f9c-19160207538a",
   "metadata": {
    "microsoft": {
     "language": "python",
     "language_group": "synapse_pyspark"
    }
   },
   "outputs": [
    {
     "data": {
      "application/vnd.livy.statement-meta+json": {
       "execution_finish_time": "2025-02-19T00:01:57.3231662Z",
       "execution_start_time": "2025-02-18T23:50:10.2347035Z",
       "livy_statement_state": "available",
       "normalized_state": "finished",
       "parent_msg_id": "35d361b0-1fce-48bd-bf8b-b108aeeb7fe7",
       "queued_time": "2025-02-18T23:48:27.1778794Z",
       "session_id": "5b38096a-5856-4a1c-9741-8f63608bb3fe",
       "session_start_time": null,
       "spark_pool": null,
       "state": "finished",
       "statement_id": 12,
       "statement_ids": [
        12
       ]
      },
      "text/plain": [
       "StatementMeta(, 5b38096a-5856-4a1c-9741-8f63608bb3fe, 12, Finished, Available, Finished)"
      ]
     },
     "metadata": {},
     "output_type": "display_data"
    }
   ],
   "source": [
    "# appending the data to the stage3 table\n",
    "# Save the transformed data into a Delta table for querying\n",
    "df_with_location_sig_class.write.mode('append').saveAsTable('earthquake_events_stage3')"
   ]
  }
 ],
 "metadata": {
  "dependencies": {
   "environment": {
    "environmentId": "02ba09c3-73dc-463d-909f-2c15f423181e",
    "workspaceId": "1a1320cf-b9f0-470c-80f0-c7d81b35cbb9"
   },
   "lakehouse": {
    "default_lakehouse": "d9e6a8b0-f098-4273-add1-097cd01603c2",
    "default_lakehouse_name": "earthquake_lakehouse",
    "default_lakehouse_workspace_id": "1a1320cf-b9f0-470c-80f0-c7d81b35cbb9"
   }
  },
  "kernel_info": {
   "name": "synapse_pyspark"
  },
  "kernelspec": {
   "display_name": "Synapse PySpark",
   "language": "Python",
   "name": "synapse_pyspark"
  },
  "language_info": {
   "name": "python"
  },
  "microsoft": {
   "language": "python",
   "language_group": "synapse_pyspark",
   "ms_spell_check": {
    "ms_spell_check_language": "en"
   }
  },
  "nteract": {
   "version": "nteract-front-end@1.0.0"
  },
  "spark_compute": {
   "compute_id": "/trident/default",
   "session_options": {
    "conf": {
     "spark.synapse.nbs.session.timeout": "1200000"
    }
   }
  }
 },
 "nbformat": 4,
 "nbformat_minor": 5
}
