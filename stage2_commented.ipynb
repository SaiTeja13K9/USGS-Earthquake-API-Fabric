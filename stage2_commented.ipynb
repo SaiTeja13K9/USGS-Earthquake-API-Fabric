{
 "cells": [
  {
   "cell_type": "code",
   "execution_count": 1,
   "id": "349dcc91-9610-46b2-af4e-e5e167e50f20",
   "metadata": {
    "microsoft": {
     "language": "python",
     "language_group": "synapse_pyspark"
    }
   },
   "outputs": [
    {
     "data": {
      "application/vnd.livy.statement-meta+json": {
       "execution_finish_time": "2025-02-18T21:51:49.3153009Z",
       "execution_start_time": "2025-02-18T21:51:47.1512891Z",
       "livy_statement_state": "available",
       "normalized_state": "finished",
       "parent_msg_id": "a9feee58-fbae-4795-98d5-555540958cc9",
       "queued_time": "2025-02-18T21:51:31.6402507Z",
       "session_id": "26d625f0-25ed-4009-b9e4-e3adacd8bc1d",
       "session_start_time": "2025-02-18T21:51:31.6415885Z",
       "spark_pool": null,
       "state": "finished",
       "statement_id": 3,
       "statement_ids": [
        3
       ]
      },
      "text/plain": [
       "StatementMeta(, 26d625f0-25ed-4009-b9e4-e3adacd8bc1d, 3, Finished, Available, Finished)"
      ]
     },
     "metadata": {},
     "output_type": "display_data"
    }
   ],
   "source": [
    "# Import necessary libraries for data processing and API calls\n",
    "from pyspark.sql.functions import col, isnull, when\n",
    "# Import necessary libraries for data processing and API calls\n",
    "from pyspark.sql.types import TimestampType\n",
    "# Import necessary libraries for data processing and API calls\n",
    "from datetime import date, timedelta\n"
   ]
  },
  {
   "cell_type": "code",
   "execution_count": 2,
   "id": "7a583dbb-52b5-4333-94a2-6a91990cdb7f",
   "metadata": {
    "microsoft": {
     "language": "python",
     "language_group": "synapse_pyspark"
    }
   },
   "outputs": [
    {
     "data": {
      "application/vnd.livy.statement-meta+json": {
       "execution_finish_time": "2025-02-18T21:51:49.7607215Z",
       "execution_start_time": "2025-02-18T21:51:49.4882559Z",
       "livy_statement_state": "available",
       "normalized_state": "finished",
       "parent_msg_id": "b0859a77-f2cd-4d21-9f7f-4d6955093d13",
       "queued_time": "2025-02-18T21:51:31.6484806Z",
       "session_id": "26d625f0-25ed-4009-b9e4-e3adacd8bc1d",
       "session_start_time": null,
       "spark_pool": null,
       "state": "finished",
       "statement_id": 4,
       "statement_ids": [
        4
       ]
      },
      "text/plain": [
       "StatementMeta(, 26d625f0-25ed-4009-b9e4-e3adacd8bc1d, 4, Finished, Available, Finished)"
      ]
     },
     "metadata": {},
     "output_type": "display_data"
    }
   ],
   "source": [
    "\n",
    "# Remove this before running Data Factory Pipeline\n",
    "start_date = date. today() - timedelta(7)\n"
   ]
  },
  {
   "cell_type": "code",
   "execution_count": 3,
   "id": "79770421-0a12-4fb4-b2a3-42b2e01a9116",
   "metadata": {
    "microsoft": {
     "language": "python",
     "language_group": "synapse_pyspark"
    }
   },
   "outputs": [
    {
     "data": {
      "application/vnd.livy.statement-meta+json": {
       "execution_finish_time": "2025-02-18T21:51:51.509314Z",
       "execution_start_time": "2025-02-18T21:51:49.912003Z",
       "livy_statement_state": "available",
       "normalized_state": "finished",
       "parent_msg_id": "3780b4da-fd5e-49b9-9238-84e61e3f59e9",
       "queued_time": "2025-02-18T21:51:31.6493009Z",
       "session_id": "26d625f0-25ed-4009-b9e4-e3adacd8bc1d",
       "session_start_time": null,
       "spark_pool": null,
       "state": "finished",
       "statement_id": 5,
       "statement_ids": [
        5
       ]
      },
      "text/plain": [
       "StatementMeta(, 26d625f0-25ed-4009-b9e4-e3adacd8bc1d, 5, Finished, Available, Finished)"
      ]
     },
     "metadata": {},
     "output_type": "display_data"
    }
   ],
   "source": [
    "\n",
    "# Load the JSON data into a Spark DataFrame\n",
    "# Load data into a Spark DataFrame for processing\n",
    "df = spark.read.option(\"multiline\", \"true\").json(f\"Files/{start_date}_earthquake_data.json\")"
   ]
  },
  {
   "cell_type": "code",
   "execution_count": 4,
   "id": "dc0adbcb-68b0-4a59-b1c4-1e65dc3cc5cc",
   "metadata": {
    "microsoft": {
     "language": "python",
     "language_group": "synapse_pyspark"
    }
   },
   "outputs": [
    {
     "data": {
      "application/vnd.livy.statement-meta+json": {
       "execution_finish_time": "2025-02-18T21:51:51.9323286Z",
       "execution_start_time": "2025-02-18T21:51:51.6698938Z",
       "livy_statement_state": "available",
       "normalized_state": "finished",
       "parent_msg_id": "ee24e354-de33-4ede-a718-623780797dbd",
       "queued_time": "2025-02-18T21:51:31.6500221Z",
       "session_id": "26d625f0-25ed-4009-b9e4-e3adacd8bc1d",
       "session_start_time": null,
       "spark_pool": null,
       "state": "finished",
       "statement_id": 6,
       "statement_ids": [
        6
       ]
      },
      "text/plain": [
       "StatementMeta(, 26d625f0-25ed-4009-b9e4-e3adacd8bc1d, 6, Finished, Available, Finished)"
      ]
     },
     "metadata": {},
     "output_type": "display_data"
    }
   ],
   "source": [
    "# Reshape earthquake data\n",
    "df = (\n",
    "    df\n",
    "    .select(\n",
    "        'id',\n",
    "        col('geometry.coordinates').getItem(0).alias('longitude'),\n",
    "        col('geometry.coordinates').getItem(1).alias('latitude'),\n",
    "        col('geometry.coordinates').getItem(2).alias('elevation'),\n",
    "        col('properties.title').alias('title'),\n",
    "        col('properties.place').alias('place_description'),\n",
    "        col('properties.sig').alias('sig'),\n",
    "        col('properties.mag').alias('mag'),\n",
    "        col('properties.magType').alias('magType'),\n",
    "        col('properties.time').alias('time'),\n",
    "        col('properties.updated').alias('updated')\n",
    "    )\n",
    ")"
   ]
  },
  {
   "cell_type": "code",
   "execution_count": 5,
   "id": "1b1a934b-72d9-408e-98d6-eb9e922fc016",
   "metadata": {
    "microsoft": {
     "language": "python",
     "language_group": "synapse_pyspark"
    }
   },
   "outputs": [
    {
     "data": {
      "application/vnd.livy.statement-meta+json": {
       "execution_finish_time": "2025-02-18T21:51:52.3314655Z",
       "execution_start_time": "2025-02-18T21:51:52.0916987Z",
       "livy_statement_state": "available",
       "normalized_state": "finished",
       "parent_msg_id": "73f8b314-c885-4be1-b313-c15372e60f18",
       "queued_time": "2025-02-18T21:51:31.6506216Z",
       "session_id": "26d625f0-25ed-4009-b9e4-e3adacd8bc1d",
       "session_start_time": null,
       "spark_pool": null,
       "state": "finished",
       "statement_id": 7,
       "statement_ids": [
        7
       ]
      },
      "text/plain": [
       "StatementMeta(, 26d625f0-25ed-4009-b9e4-e3adacd8bc1d, 7, Finished, Available, Finished)"
      ]
     },
     "metadata": {},
     "output_type": "display_data"
    }
   ],
   "source": [
    "# Validate data: Check for missing or null values\n",
    "df = (\n",
    "    df\n",
    "# Apply conditional transformations to clean and filter the dataset\n",
    "    .withColumn('longitude', when(isnull(col('longitude')), 0).otherwise(col('longitude')))\n",
    "# Apply conditional transformations to clean and filter the dataset\n",
    "    .withColumn('latitude', when(isnull(col('latitude')), 0).otherwise(col('latitude')))\n",
    "# Apply conditional transformations to clean and filter the dataset\n",
    "    .withColumn('time', when(isnull(col('time')), 0).otherwise(col('time')))\n",
    ")"
   ]
  },
  {
   "cell_type": "code",
   "execution_count": 6,
   "id": "ac96a28f-944a-4776-b9fb-558e945ed16f",
   "metadata": {
    "microsoft": {
     "language": "python",
     "language_group": "synapse_pyspark"
    }
   },
   "outputs": [
    {
     "data": {
      "application/vnd.livy.statement-meta+json": {
       "execution_finish_time": "2025-02-18T21:51:52.7287061Z",
       "execution_start_time": "2025-02-18T21:51:52.4880612Z",
       "livy_statement_state": "available",
       "normalized_state": "finished",
       "parent_msg_id": "76e4bb5f-fa74-440c-b9b8-d393e659a7de",
       "queued_time": "2025-02-18T21:51:31.6512129Z",
       "session_id": "26d625f0-25ed-4009-b9e4-e3adacd8bc1d",
       "session_start_time": null,
       "spark_pool": null,
       "state": "finished",
       "statement_id": 8,
       "statement_ids": [
        8
       ]
      },
      "text/plain": [
       "StatementMeta(, 26d625f0-25ed-4009-b9e4-e3adacd8bc1d, 8, Finished, Available, Finished)"
      ]
     },
     "metadata": {},
     "output_type": "display_data"
    }
   ],
   "source": [
    "\n",
    "# Convert 'time' and 'updated' to timestamp\n",
    "df = (\n",
    "    df\n",
    "    .withColumn('time', (col('time') / 1000).cast(TimestampType()))\n",
    "    .withColumn('updated', (col('updated') / 1000).cast(TimestampType()))\n",
    ")\n"
   ]
  },
  {
   "cell_type": "code",
   "execution_count": 7,
   "id": "9116766b-b377-44d6-8591-b169f012733a",
   "metadata": {
    "microsoft": {
     "language": "python",
     "language_group": "synapse_pyspark"
    }
   },
   "outputs": [
    {
     "data": {
      "application/vnd.livy.statement-meta+json": {
       "execution_finish_time": "2025-02-18T21:52:07.3159707Z",
       "execution_start_time": "2025-02-18T21:51:52.8876051Z",
       "livy_statement_state": "available",
       "normalized_state": "finished",
       "parent_msg_id": "878dc264-8f33-48b7-9d14-a803f57c8f6a",
       "queued_time": "2025-02-18T21:51:31.6517997Z",
       "session_id": "26d625f0-25ed-4009-b9e4-e3adacd8bc1d",
       "session_start_time": null,
       "spark_pool": null,
       "state": "finished",
       "statement_id": 9,
       "statement_ids": [
        9
       ]
      },
      "text/plain": [
       "StatementMeta(, 26d625f0-25ed-4009-b9e4-e3adacd8bc1d, 9, Finished, Available, Finished)"
      ]
     },
     "metadata": {},
     "output_type": "display_data"
    }
   ],
   "source": [
    "# Append to the stage2 table\n",
    "# Save the transformed data into a Delta table for querying\n",
    "df.write.mode('append').saveAsTable('earthquake_events_stage2')"
   ]
  }
 ],
 "metadata": {
  "dependencies": {
   "lakehouse": {
    "default_lakehouse": "d9e6a8b0-f098-4273-add1-097cd01603c2",
    "default_lakehouse_name": "earthquake_lakehouse",
    "default_lakehouse_workspace_id": "1a1320cf-b9f0-470c-80f0-c7d81b35cbb9"
   }
  },
  "kernel_info": {
   "name": "synapse_pyspark"
  },
  "kernelspec": {
   "display_name": "Synapse PySpark",
   "language": "Python",
   "name": "synapse_pyspark"
  },
  "language_info": {
   "name": "python"
  },
  "microsoft": {
   "language": "python",
   "language_group": "synapse_pyspark",
   "ms_spell_check": {
    "ms_spell_check_language": "en"
   }
  },
  "nteract": {
   "version": "nteract-front-end@1.0.0"
  },
  "spark_compute": {
   "compute_id": "/trident/default",
   "session_options": {
    "conf": {
     "spark.synapse.nbs.session.timeout": "1200000"
    }
   }
  }
 },
 "nbformat": 4,
 "nbformat_minor": 5
}
