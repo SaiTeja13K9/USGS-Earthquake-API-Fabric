{
 "cells": [
  {
   "cell_type": "code",
   "execution_count": 3,
   "id": "c7de16eb-ec33-4301-941e-e1cf7d02f482",
   "metadata": {
    "microsoft": {
     "language": "python",
     "language_group": "synapse_pyspark"
    }
   },
   "outputs": [
    {
     "data": {
      "application/vnd.livy.statement-meta+json": {
       "execution_finish_time": "2025-02-18T21:49:14.2412599Z",
       "execution_start_time": "2025-02-18T21:49:13.993404Z",
       "livy_statement_state": "available",
       "normalized_state": "finished",
       "parent_msg_id": "f08379d6-bd86-4a88-9a6d-10c32c4d9dab",
       "queued_time": "2025-02-18T21:49:13.8127662Z",
       "session_id": "68c3292a-3686-49d5-af2c-13ecabcf4e00",
       "session_start_time": null,
       "spark_pool": null,
       "state": "finished",
       "statement_id": 5,
       "statement_ids": [
        5
       ]
      },
      "text/plain": [
       "StatementMeta(, 68c3292a-3686-49d5-af2c-13ecabcf4e00, 5, Finished, Available, Finished)"
      ]
     },
     "metadata": {},
     "output_type": "display_data"
    }
   ],
   "source": [
    "# Import necessary libraries for data processing and API calls\n",
    "import requests\n",
    "# Import necessary libraries for data processing and API calls\n",
    "import json\n",
    "# Import necessary libraries for data processing and API calls\n",
    "from datetime import date, timedelta\n",
    "# Import necessary libraries for data processing and API calls\n",
    "import os"
   ]
  },
  {
   "cell_type": "code",
   "execution_count": 4,
   "id": "6d5ca79a-e704-4b86-ab01-eb370860b085",
   "metadata": {
    "microsoft": {
     "language": "python",
     "language_group": "synapse_pyspark"
    }
   },
   "outputs": [
    {
     "data": {
      "application/vnd.livy.statement-meta+json": {
       "execution_finish_time": "2025-02-18T21:49:14.6356444Z",
       "execution_start_time": "2025-02-18T21:49:14.4006119Z",
       "livy_statement_state": "available",
       "normalized_state": "finished",
       "parent_msg_id": "bddef661-334a-4e40-8c5e-402613a914f7",
       "queued_time": "2025-02-18T21:49:13.9774352Z",
       "session_id": "68c3292a-3686-49d5-af2c-13ecabcf4e00",
       "session_start_time": null,
       "spark_pool": null,
       "state": "finished",
       "statement_id": 6,
       "statement_ids": [
        6
       ]
      },
      "text/plain": [
       "StatementMeta(, 68c3292a-3686-49d5-af2c-13ecabcf4e00, 6, Finished, Available, Finished)"
      ]
     },
     "metadata": {},
     "output_type": "display_data"
    }
   ],
   "source": [
    "\n",
    "# Remove this before running Data Factory Pipeline\n",
    "start_date = date.today() - timedelta(7) # 7 days\n",
    "end_date = date.today() - timedelta(1)\n"
   ]
  },
  {
   "cell_type": "code",
   "execution_count": 5,
   "id": "4128f7d2-de85-4cfe-84bd-c0ea858b52db",
   "metadata": {
    "microsoft": {
     "language": "python",
     "language_group": "synapse_pyspark"
    }
   },
   "outputs": [
    {
     "data": {
      "application/vnd.livy.statement-meta+json": {
       "execution_finish_time": "2025-02-18T21:49:16.3465666Z",
       "execution_start_time": "2025-02-18T21:49:14.7960844Z",
       "livy_statement_state": "available",
       "normalized_state": "finished",
       "parent_msg_id": "eba59318-2be2-4694-80d5-4f5a7994731b",
       "queued_time": "2025-02-18T21:49:14.057625Z",
       "session_id": "68c3292a-3686-49d5-af2c-13ecabcf4e00",
       "session_start_time": null,
       "spark_pool": null,
       "state": "finished",
       "statement_id": 7,
       "statement_ids": [
        7
       ]
      },
      "text/plain": [
       "StatementMeta(, 68c3292a-3686-49d5-af2c-13ecabcf4e00, 7, Finished, Available, Finished)"
      ]
     },
     "metadata": {},
     "output_type": "display_data"
    },
    {
     "name": "stdout",
     "output_type": "stream",
     "text": [
      "Data successfully saved to /lakehouse/default/Files/2025-02-11_earthquake_data.json\n"
     ]
    }
   ],
   "source": [
    "\n",
    "\n",
    "# Construct the API URL with start and end dates provided by Data Factory, formatted for geojson output.\n",
    "url = f\"https://earthquake.usgs.gov/fdsnws/event/1/query?format=geojson&starttime={start_date}&endtime={end_date}\"\n",
    "\n",
    "try:\n",
    "    # Make the GET request to fetch data\n",
    "# Fetch data from the earthquake API using an HTTP GET request\n",
    "    response = requests.get(url)\n",
    "\n",
    "    # Check if the request was successful\n",
    "    response.raise_for_status()  # Raise HTTPError for bad responses (4xx or 5xx)\n",
    "    data = response.json().get('features', [])\n",
    "\n",
    "    if not data:\n",
    "        print(\"No data returned for the specified date range.\")\n",
    "    else:\n",
    "        # Specify the file name (and path if needed)\n",
    "        directory = '/lakehouse/default/Files'\n",
    "        file_path = f'{directory}/{start_date}_earthquake_data.json'\n",
    "\n",
    "        # Create the directory if it doesn't exist\n",
    "        os.makedirs(directory, exist_ok=True)\n",
    "\n",
    "        # Save the JSON data\n",
    "        with open(file_path, 'w') as file:\n",
    "            json.dump(data, file, indent=4)\n",
    "        print(f\"Data successfully saved to {file_path}\")\n",
    "except requests.exceptions.RequestException as e:\n",
    "    print(f\"Error fetching data from API: {e}\")\n",
    "except FileNotFoundError as e:\n",
    "    print(f\"Error saving data to file: {e}\")"
   ]
  }
 ],
 "metadata": {
  "dependencies": {
   "lakehouse": {
    "default_lakehouse": "d9e6a8b0-f098-4273-add1-097cd01603c2",
    "default_lakehouse_name": "earthquake_lakehouse",
    "default_lakehouse_workspace_id": "1a1320cf-b9f0-470c-80f0-c7d81b35cbb9"
   }
  },
  "kernel_info": {
   "name": "synapse_pyspark"
  },
  "kernelspec": {
   "display_name": "Synapse PySpark",
   "language": "Python",
   "name": "synapse_pyspark"
  },
  "language_info": {
   "name": "python"
  },
  "microsoft": {
   "language": "python",
   "language_group": "synapse_pyspark",
   "ms_spell_check": {
    "ms_spell_check_language": "en"
   }
  },
  "nteract": {
   "version": "nteract-front-end@1.0.0"
  },
  "spark_compute": {
   "compute_id": "/trident/default",
   "session_options": {
    "conf": {
     "spark.synapse.nbs.session.timeout": "1200000"
    }
   }
  }
 },
 "nbformat": 4,
 "nbformat_minor": 5
}
